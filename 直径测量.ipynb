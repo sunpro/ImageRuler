{
 "cells": [
  {
   "cell_type": "markdown",
   "metadata": {},
   "source": [
    "分割+区域统计"
   ]
  },
  {
   "cell_type": "code",
   "execution_count": 13,
   "metadata": {
    "collapsed": false
   },
   "outputs": [
    {
     "name": "stdout",
     "output_type": "stream",
     "text": [
      "9700\n"
     ]
    }
   ],
   "source": [
    "#分割\n",
    "#  -*- coding: utf-8 -*\n",
    "import cv2\n",
    "import numpy as np\n",
    "import os\n",
    "import time\n",
    "\n",
    "#time label\n",
    "timestr = str(time.time())[-5:-1]\n",
    "print(timestr)\n",
    "#import the image\n",
    "img = cv2.imread('./img/ruler2.jpg',1)\n",
    "cv2.imshow('img',img)\n",
    "#转化为灰度图\n",
    "img_gray = cv2.cvtColor(img,cv2.COLOR_BGR2GRAY) \n",
    "cv2.imshow('gray',img_gray)\n",
    "#高斯平滑除噪\n",
    "#img_blur = cv2.GaussianBlur(img_gray,(5,5),0)\n",
    "img_blur = cv2.medianBlur(img_gray,5)\n",
    "cv2.imshow('Gaussian',img_blur)\n",
    "#canny算子 边缘检测\n",
    "thres1_canny = 120\n",
    "thres2_canny = 20\n",
    "img_canny = cv2.Canny(img_blur,120,20)\n",
    "cv2.imshow('canny',img_canny)\n",
    "cv2.imwrite('./img/'+'ruler'+'_canny'+timestr + '.jpg',img_canny)\n",
    "#二值化处理\n",
    "_, img_bin = cv2.threshold(img_blur, 200, 255, cv2.THRESH_BINARY )\n",
    "cv2.imshow('bin',img_bin)\n",
    "cv2.imwrite('./img/'+'ruler'+'_bin'+timestr + '.jpg',img_bin)\n",
    "#print(img_bin)\n",
    "\n",
    "cv2.waitKey()\n",
    "cv2.destroyAllWindows()\n"
   ]
  }
 ],
 "metadata": {
  "anaconda-cloud": {},
  "kernelspec": {
   "display_name": "Python [default]",
   "language": "python",
   "name": "python3"
  },
  "language_info": {
   "codemirror_mode": {
    "name": "ipython",
    "version": 3
   },
   "file_extension": ".py",
   "mimetype": "text/x-python",
   "name": "python",
   "nbconvert_exporter": "python",
   "pygments_lexer": "ipython3",
   "version": "3.5.2"
  }
 },
 "nbformat": 4,
 "nbformat_minor": 1
}
